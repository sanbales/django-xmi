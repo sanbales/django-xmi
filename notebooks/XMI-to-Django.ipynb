{
 "cells": [
  {
   "cell_type": "code",
   "execution_count": null,
   "metadata": {},
   "outputs": [],
   "source": [
    "from pathlib import Path\n",
    "\n",
    "from django_xmi.xmi.parser import XmiParser, DotDict, camel_to_snake, make_name_safe\n",
    "from django_xmi.xmi.util import download_file"
   ]
  },
  {
   "cell_type": "markdown",
   "metadata": {},
   "source": [
    "# Load XMI from OMG"
   ]
  },
  {
   "cell_type": "code",
   "execution_count": null,
   "metadata": {},
   "outputs": [],
   "source": [
    "XMI_SPECIFICATIONS = {\n",
    "    # \"MOF.xmi\": \"https://www.omg.org/spec/MOF/20131001/MOF.xmi\",\n",
    "    # \"OCL.cmof\": \"https://www.omg.org/spec/OCL/20090501/OCL.cmof\",\n",
    "    # \"EssentialOCL.emof\" : \"https://www.omg.org/spec/OCL/20090501/EssentialOCL.emof\",\n",
    "    \"UML.xmi\": \"https://www.omg.org/spec/UML/20161101/UML.xmi\",\n",
    "    # \"StandardProfile.xmi\": \"https://www.omg.org/spec/UML/20161101/StandardProfile.xmi\",\n",
    "    # \"PrimitiveTypes.xmi\": \"https://www.omg.org/spec/UML/20161101/PrimitiveTypes.xmi\",\n",
    "    # \"UMLDI.xmi\": \"https://www.omg.org/spec/UML/20161101/UMLDI.xmi\",\n",
    "    \"SysML.xmi\": \"https://www.omg.org/spec/SysML/20181001/SysML.xmi\",\n",
    "    # \"QUDV.xmi\": \"https://www.omg.org/spec/SysML/20181001/QUDV.xmi\",\n",
    "    # \"ISO80000.xmi\": \"https://www.omg.org/spec/SysML/20181001/ISO80000.xmi\",\n",
    "    # \"SysMLDI.xmi\": \"https://www.omg.org/spec/SysML/20181001/SysMLDI.xmi\",\n",
    "}"
   ]
  },
  {
   "cell_type": "code",
   "execution_count": null,
   "metadata": {},
   "outputs": [],
   "source": [
    "parser = XmiParser()\n",
    "\n",
    "for filename, url in XMI_SPECIFICATIONS.items():\n",
    "    filepath = Path(\"../notebooks\") / filename\n",
    "    resolved_filepath = str(filepath.resolve())\n",
    "\n",
    "    if not filepath.exists():\n",
    "        download_file(url, resolved_filepath)\n",
    "\n",
    "    parser.parse(resolved_filepath)"
   ]
  },
  {
   "cell_type": "code",
   "execution_count": null,
   "metadata": {
    "collapsed": false,
    "jupyter": {
     "outputs_hidden": false
    }
   },
   "outputs": [],
   "source": [
    "parser.parse_profile(parser.packages.SysML)"
   ]
  },
  {
   "cell_type": "code",
   "execution_count": null,
   "metadata": {},
   "outputs": [],
   "source": [
    "parser.parse_profile(parser.packages.UML, 'Package')"
   ]
  },
  {
   "cell_type": "code",
   "execution_count": null,
   "metadata": {
    "collapsed": false,
    "jupyter": {
     "outputs_hidden": false
    }
   },
   "outputs": [],
   "source": [
    "parser.process_literals()"
   ]
  },
  {
   "cell_type": "code",
   "execution_count": null,
   "metadata": {
    "collapsed": false,
    "jupyter": {
     "outputs_hidden": false
    }
   },
   "outputs": [],
   "source": [
    "parser.process_attributes()"
   ]
  },
  {
   "cell_type": "code",
   "execution_count": null,
   "metadata": {
    "collapsed": false,
    "jupyter": {
     "outputs_hidden": false
    }
   },
   "outputs": [],
   "source": [
    "parser.process_operations_and_rules()"
   ]
  },
  {
   "cell_type": "markdown",
   "metadata": {},
   "source": [
    "# Write Django models to files"
   ]
  },
  {
   "cell_type": "code",
   "execution_count": null,
   "metadata": {},
   "outputs": [],
   "source": [
    "print(\"Found\", len(parser.elements), \"elements\")"
   ]
  },
  {
   "cell_type": "code",
   "execution_count": null,
   "metadata": {},
   "outputs": [],
   "source": [
    "from os import path, remove\n",
    "from textwrap import wrap\n",
    "from warnings import warn"
   ]
  },
  {
   "cell_type": "code",
   "execution_count": null,
   "metadata": {
    "collapsed": false,
    "jupyter": {
     "outputs_hidden": false
    }
   },
   "outputs": [],
   "source": [
    "INDENT = \" \" * 2\n",
    "inherit = False\n",
    "\n",
    "for element_name in parser.ordered_elements():\n",
    "    element = parser.elements.get(element_name, None)\n",
    "    if element is None:\n",
    "        warn(\"Could not find '{}' in order to write it to a file\".format(element_name))\n",
    "        continue\n",
    "    \n",
    "    element.__classdec__ = ['class {}(models.Model):'.format(element.name)]\n",
    "    \n",
    "    docstring = element.get('__docstring__', '')\n",
    "    if isinstance(docstring, str):    \n",
    "        element.__docstring__ = ([INDENT + '\"\"\"'] +\n",
    "                                 [(INDENT + s) for s in wrap('{}'.format(docstring), 108)] +\n",
    "                                 [INDENT + '\"\"\"\\n'])\n",
    "    if isinstance(element.__package__, str):\n",
    "        element.__package__ = [INDENT + \"__package__ = '{}'\\n\".format(element.__package__)]\n",
    "        \n",
    "    # Get fields and operations from superclasses:\n",
    "    element.__fields__ = {}\n",
    "    element.__methods__ = {}\n",
    "    element.__literals__ = {}\n",
    "    if inherit:\n",
    "        elem_attrs = element.get('attributes', {}).keys()\n",
    "        elem_methods = set(element.get('rules', {}).keys()).union(set(element.get('operations', {}).keys()))\n",
    "        elem_literals = element.get('literals', {}).keys()\n",
    "        for superclass in element.__modelclass__.split(','):\n",
    "            superclass = parser.elements.get(camel_to_snake(superclass.strip()), None)\n",
    "            if superclass is not None:\n",
    "                element.__fields__.update({k: v for k, v in superclass.__fields__.items() if k not in elem_attrs})\n",
    "                element.__methods__.update({k: v for k, v in superclass.__methods__.items() if k not in elem_attrs})\n",
    "                element.__literals__.update({k: v for k, v in superclass.__literals__.items() if k not in elem_attrs})\n",
    "    else:\n",
    "        for i, other in enumerate(element.__modelclass__.split(',')):\n",
    "            other = other.strip()\n",
    "            if 'models.Model' in other:\n",
    "                continue\n",
    "            args = [\"'{}'\".format(other)]\n",
    "            if i == 0:\n",
    "                args += ['on_delete=models.CASCADE', 'primary_key=True']\n",
    "            var_name = make_name_safe(other)\n",
    "            if var_name in element.__fields__:\n",
    "                warn(\"\\n\\tOverwriting field '{}.{}'\\n\".format(element.name, var_name))\n",
    "            element.__fields__.update({var_name: '    {} = models.OneToOneField({})'.format(var_name, ', '.join(args))})\n",
    "            first = False\n",
    "\n",
    "    for attr in element.get('attributes', {}).values():\n",
    "        if attr.name in element.__fields__:\n",
    "            warn(\"\\n\\tOverwriting field '{}.{}'\\n\".format(element.name, attr.name))\n",
    "        if '__print__' not in attr:\n",
    "            warn(\"Could not find __print__ method in '{}.{}'\".format(element.name, attr.name))\n",
    "            continue\n",
    "            \n",
    "        args = ', '.join(attr.__print__.args + [attr.__print__.get('help_text', '')])\n",
    "        element.__fields__.update({attr.name: \"{}({})\".format(attr.__print__.field, args)})\n",
    "        \n",
    "        if '__choices__' in attr:\n",
    "            if attr.name in element.__literals__:\n",
    "                warn(\"\\n\\tOverwriting literal '{}.{}'\\n\".format(element.name, attr.name))\n",
    "            element.__literals__.update({attr.name: attr.__choices__})\n",
    "        \n",
    "    for method_name, method in {**element.get('operations', {}), **element.get('rules', {})}.items():\n",
    "        if method_name in element.__methods__:\n",
    "            warn(\"\\n\\tOverwriting method '{}.{}'\\n\".format(element.name, method_name))\n",
    "        if '__print__' not in method:\n",
    "            warn(\"Could not find __print__ method in '{}.{}'\".format(element.name, method_name))\n",
    "        element.__methods__.update({method_name: '\\n'.join(method.__print__)})"
   ]
  },
  {
   "cell_type": "code",
   "execution_count": null,
   "metadata": {
    "collapsed": false,
    "jupyter": {
     "outputs_hidden": false
    }
   },
   "outputs": [],
   "source": [
    "for element in parser.elements.values():\n",
    "    literals = []\n",
    "    if element.__literals__:\n",
    "        literals = ['\\n'.join(('\\n'+i[-1]+'\\n') for i in sorted(element.__literals__.items()))]\n",
    "    element.__django_model__ = (element.__classdec__ + \n",
    "                                element.__docstring__ + \n",
    "                                element.__package__ + \n",
    "                                literals + \n",
    "                                [i[1] for i in sorted(element.__fields__.items())] + \n",
    "                                ['\\n' + i[1] for i in sorted(element.__methods__.items())])"
   ]
  },
  {
   "cell_type": "code",
   "execution_count": null,
   "metadata": {},
   "outputs": [],
   "source": [
    "BASE_DIR = Path('../django_xmi/models')"
   ]
  },
  {
   "cell_type": "code",
   "execution_count": null,
   "metadata": {
    "collapsed": false,
    "jupyter": {
     "outputs_hidden": false
    }
   },
   "outputs": [],
   "source": [
    "filenames = set(e.__profile__ for e in parser.elements.values())\n",
    "filenames = {f: BASE_DIR / (f.lower() + '.py') for f in filenames}\n",
    "\n",
    "for file in filenames.values():\n",
    "    if path.exists(file):\n",
    "        remove(file)\n",
    "\n",
    "loaded = {}\n",
    "for elem_name in parser.ordered_elements():\n",
    "    # TODO: this hack indicates that snake_case is getting applied where it shouldn't...\n",
    "    if elem_name not in parser.elements and \".\" in elem_name:\n",
    "        elem_name = elem_name.split(\".\")[-1]\n",
    "    element = parser.elements.get(elem_name)\n",
    "    filename = filenames[element.__profile__]\n",
    "    with open(filename, 'a') as file:\n",
    "        if filename not in loaded:\n",
    "            file.write('from django.db import models\\n')\n",
    "            for module in loaded.values():\n",
    "                file.write('from .{} import *\\n'.format(module))\n",
    "            loaded[filename] = element.__profile__.lower()\n",
    "        file.write('\\n\\n' + '\\n'.join(element.__django_model__))"
   ]
  },
  {
   "cell_type": "code",
   "execution_count": null,
   "metadata": {
    "collapsed": false,
    "jupyter": {
     "outputs_hidden": false
    }
   },
   "outputs": [],
   "source": [
    "parser.elements.opaque_behavior.attributes.body.ownedComment"
   ]
  },
  {
   "cell_type": "markdown",
   "metadata": {},
   "source": [
    "# TODOs"
   ]
  },
  {
   "cell_type": "markdown",
   "metadata": {},
   "source": [
    "> Disclaimer: this project has not been updated.  The list below is not a complete set of issues..."
   ]
  },
  {
   "cell_type": "markdown",
   "metadata": {},
   "source": [
    "### Remove the reverse accessors which Django creates automatically\n",
    "* e.g., `Namespace.named_element: (fields.E302) Reverse accessor for 'Namespace.named_element' clashes with field name 'NamedElement.namespace'.`\n",
    "* **DONE** -- kindof, the `IGNORED_ACCESSORS` set is a workaround to handle this, need a better way to handle it though."
   ]
  },
  {
   "cell_type": "markdown",
   "metadata": {},
   "source": [
    "### Parse multiplicity relationships\n",
    "* Look at how OSLC's SysML profile figure out how to determine if a relationship is `zero-to-one`, `one-to-many`, or `zero-to-many`\n",
    "\n",
    "* **DONE** -- This was a matter of setting ManyToMany if `upperValue.value == '*'` and `blank=True` if `'upperValue' in attribute`"
   ]
  },
  {
   "cell_type": "markdown",
   "metadata": {},
   "source": [
    "### Profile Loading\n",
    "* right now things just \"get loaded\", make it so UML is loaded as a package, or a profile loads its imported packages\n",
    "* add feature to load a profile and have the profile load the imported packages and then write the model for only the required elements of that profile"
   ]
  },
  {
   "cell_type": "markdown",
   "metadata": {},
   "source": [
    "### Fix issue with fields referencing abstract models\n",
    "* May have to do away with declaring things as `abstract` and make everything inherit from `models.Model` and use `OneToOneField`"
   ]
  },
  {
   "cell_type": "markdown",
   "metadata": {},
   "source": [
    "### Add proper pluralization to the models\n",
    "* Will have to do it using the [field meta class formulation](https://docs.djangoproject.com/en/1.9/topics/db/models/#meta-options)"
   ]
  },
  {
   "cell_type": "markdown",
   "metadata": {},
   "source": [
    "### Add better __repr__ to the objects\n",
    "* Should really use `__str__`"
   ]
  }
 ],
 "metadata": {
  "hide_input": false,
  "kernelspec": {
   "display_name": "Python 3",
   "language": "python",
   "name": "python3"
  },
  "language_info": {
   "codemirror_mode": {
    "name": "ipython",
    "version": 3
   },
   "file_extension": ".py",
   "mimetype": "text/x-python",
   "name": "python",
   "nbconvert_exporter": "python",
   "pygments_lexer": "ipython3",
   "version": "3.7.8"
  },
  "widgets": {
   "state": {},
   "version": "1.1.2"
  }
 },
 "nbformat": 4,
 "nbformat_minor": 4
}
